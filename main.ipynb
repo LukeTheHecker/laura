{
 "cells": [
  {
   "cell_type": "code",
   "execution_count": 1,
   "metadata": {},
   "outputs": [],
   "source": [
    "from copy import deepcopy\n",
    "import sys\n",
    "sys.path.insert(0, \"../esinet\")\n",
    "from scipy.optimize import minimize\n",
    "import numpy as np\n",
    "from esinet.forward import create_forward_model, get_info\n",
    "from esinet import Simulation, Net\n",
    "from esinet.util import unpack_fwd\n",
    "pp = dict(hemi='both', surface='white')"
   ]
  },
  {
   "cell_type": "code",
   "execution_count": 2,
   "metadata": {},
   "outputs": [
    {
     "name": "stderr",
     "output_type": "stream",
     "text": [
      "[Parallel(n_jobs=4)]: Using backend LokyBackend with 4 concurrent workers.\n",
      "[Parallel(n_jobs=4)]: Done   2 out of   4 | elapsed:    1.1s remaining:    1.1s\n",
      "[Parallel(n_jobs=4)]: Done   4 out of   4 | elapsed:    1.2s remaining:    0.0s\n",
      "[Parallel(n_jobs=4)]: Done   4 out of   4 | elapsed:    1.2s finished\n",
      "[Parallel(n_jobs=4)]: Using backend LokyBackend with 4 concurrent workers.\n",
      "[Parallel(n_jobs=4)]: Done   2 out of   4 | elapsed:    0.1s remaining:    0.1s\n",
      "[Parallel(n_jobs=4)]: Done   4 out of   4 | elapsed:    0.1s remaining:    0.0s\n",
      "[Parallel(n_jobs=4)]: Done   4 out of   4 | elapsed:    0.1s finished\n",
      "[Parallel(n_jobs=4)]: Using backend LokyBackend with 4 concurrent workers.\n",
      "[Parallel(n_jobs=4)]: Done   2 out of   4 | elapsed:    0.2s remaining:    0.2s\n",
      "[Parallel(n_jobs=4)]: Done   4 out of   4 | elapsed:    0.2s remaining:    0.0s\n",
      "[Parallel(n_jobs=4)]: Done   4 out of   4 | elapsed:    0.2s finished\n"
     ]
    }
   ],
   "source": [
    "info = get_info(\"standard_1020\")\n",
    "fwd = create_forward_model(info=info)\n",
    "leadfield, pos = unpack_fwd(fwd)[1:3]"
   ]
  },
  {
   "cell_type": "code",
   "execution_count": 3,
   "metadata": {},
   "outputs": [
    {
     "name": "stdout",
     "output_type": "stream",
     "text": [
      "Simulating data based on sparse patches.\n"
     ]
    },
    {
     "name": "stderr",
     "output_type": "stream",
     "text": [
      "100%|██████████| 1000/1000 [00:03<00:00, 281.88it/s]\n",
      "100%|██████████| 1000/1000 [00:00<00:00, 29491.25it/s]\n"
     ]
    },
    {
     "name": "stdout",
     "output_type": "stream",
     "text": [
      "source data shape:  (1284, 1) (1284, 1)\n"
     ]
    },
    {
     "name": "stderr",
     "output_type": "stream",
     "text": [
      "100%|██████████| 1000/1000 [00:01<00:00, 870.37it/s]\n"
     ]
    }
   ],
   "source": [
    "settings=dict(duration_of_trial=0.)\n",
    "sim = Simulation(fwd, info, settings=settings).simulate(1000)"
   ]
  },
  {
   "cell_type": "code",
   "execution_count": 4,
   "metadata": {},
   "outputs": [
    {
     "name": "stdout",
     "output_type": "stream",
     "text": [
      "Using pyvista 3d backend.\n",
      "\n",
      "Using control points [1.32247177e-09 2.30085320e-09 8.26452707e-09]\n"
     ]
    },
    {
     "data": {
      "text/plain": [
       "<mne.viz._brain._brain.Brain at 0x1dbdaaf1a00>"
      ]
     },
     "execution_count": 4,
     "metadata": {},
     "output_type": "execute_result"
    }
   ],
   "source": [
    "source = sim.source_data[0]\n",
    "eeg = sim.eeg_data[0].average()\n",
    "source.plot(**pp)"
   ]
  },
  {
   "cell_type": "code",
   "execution_count": 5,
   "metadata": {},
   "outputs": [
    {
     "name": "stdout",
     "output_type": "stream",
     "text": [
      "Using control points [1.88534193e-08 2.38008844e-08 5.29754329e-08]\n"
     ]
    },
    {
     "data": {
      "text/plain": [
       "<mne.viz._brain._brain.Brain at 0x1dbe88c3a90>"
      ]
     },
     "execution_count": 5,
     "metadata": {},
     "output_type": "execute_result"
    }
   ],
   "source": [
    "y = source.data\n",
    "x = eeg.data\n",
    "import numpy as np\n",
    "K_inv = np.linalg.pinv(np.dot(leadfield, leadfield.T))\n",
    "w = np.matmul(K_inv, x)\n",
    "y_hat = np.matmul(w.T, leadfield)\n",
    "source_hat = source.copy()\n",
    "source_hat.data = y_hat.T\n",
    "source_hat.plot(**pp)"
   ]
  },
  {
   "cell_type": "markdown",
   "metadata": {},
   "source": [
    "# scipy minimize"
   ]
  },
  {
   "cell_type": "code",
   "execution_count": 6,
   "metadata": {},
   "outputs": [],
   "source": [
    "to_vector = lambda a: a.flatten()\n",
    "\n",
    "y = np.concatenate([source.data for source in sim.source_data], axis=-1)\n",
    "x = np.concatenate([eeg.average().data for eeg in sim.eeg_data], axis=-1)"
   ]
  },
  {
   "cell_type": "code",
   "execution_count": 23,
   "metadata": {},
   "outputs": [
    {
     "name": "stderr",
     "output_type": "stream",
     "text": [
      "Traceback (most recent call last):\n",
      "  File \"c:\\Users\\Lukas\\Envs\\esienv\\lib\\site-packages\\mne\\viz\\_brain\\_brain.py\", line 51, in safe_event\n",
      "    return fun(*args, **kwargs)\n",
      "  File \"c:\\Users\\Lukas\\Envs\\esienv\\lib\\site-packages\\mne\\viz\\_brain\\_brain.py\", line 687, in _clean\n",
      "    self._layered_meshes[hemi]._clean()\n",
      "  File \"c:\\Users\\Lukas\\Envs\\esienv\\lib\\site-packages\\mne\\viz\\_brain\\_brain.py\", line 196, in _clean\n",
      "    mapper = self._actor.GetMapper()\n",
      "AttributeError: 'NoneType' object has no attribute 'GetMapper'\n",
      "Traceback (most recent call last):\n",
      "  File \"c:\\Users\\Lukas\\Envs\\esienv\\lib\\site-packages\\mne\\viz\\_brain\\_brain.py\", line 51, in safe_event\n",
      "    return fun(*args, **kwargs)\n",
      "  File \"c:\\Users\\Lukas\\Envs\\esienv\\lib\\site-packages\\mne\\viz\\_brain\\_brain.py\", line 687, in _clean\n",
      "    self._layered_meshes[hemi]._clean()\n",
      "  File \"c:\\Users\\Lukas\\Envs\\esienv\\lib\\site-packages\\mne\\viz\\_brain\\_brain.py\", line 196, in _clean\n",
      "    mapper = self._actor.GetMapper()\n",
      "AttributeError: 'NoneType' object has no attribute 'GetMapper'\n",
      "Traceback (most recent call last):\n",
      "  File \"c:\\Users\\Lukas\\Envs\\esienv\\lib\\site-packages\\mne\\viz\\_brain\\_brain.py\", line 51, in safe_event\n",
      "    return fun(*args, **kwargs)\n",
      "  File \"c:\\Users\\Lukas\\Envs\\esienv\\lib\\site-packages\\mne\\viz\\_brain\\_brain.py\", line 687, in _clean\n",
      "    self._layered_meshes[hemi]._clean()\n",
      "  File \"c:\\Users\\Lukas\\Envs\\esienv\\lib\\site-packages\\mne\\viz\\_brain\\_brain.py\", line 196, in _clean\n",
      "    mapper = self._actor.GetMapper()\n",
      "AttributeError: 'NoneType' object has no attribute 'GetMapper'\n"
     ]
    }
   ],
   "source": [
    "from scipy.spatial.distance import cosine\n",
    "mse = lambda x,y: np.mean((x-y)**2)\n",
    "def optimize(x, y, leadfield, target_shape):\n",
    "    def fun(K_inv):\n",
    "        K_inv_mat = K_inv.reshape(*target_shape)\n",
    "        w_mat = np.matmul(K_inv_mat, x)\n",
    "        y_hat = np.matmul(w_mat.T, leadfield).T\n",
    "        # error = cosine(y_hat.flatten(), y.flatten())\n",
    "        error = mse(y_hat.flatten(), y.flatten())*1e18\n",
    "        # print(error)\n",
    "        return error\n",
    "    return fun\n",
    "\n",
    "opt = minimize(optimize(x, y, leadfield, K_inv.shape), to_vector(K_inv), options=dict(maxiter=100))\n",
    "K_inv_opt = opt['x'].reshape(*K_inv.shape)"
   ]
  },
  {
   "cell_type": "markdown",
   "metadata": {},
   "source": [
    "## plot scipy minimize results"
   ]
  },
  {
   "cell_type": "code",
   "execution_count": 26,
   "metadata": {},
   "outputs": [
    {
     "name": "stdout",
     "output_type": "stream",
     "text": [
      "Simulating data based on sparse patches.\n"
     ]
    },
    {
     "name": "stderr",
     "output_type": "stream",
     "text": [
      "100%|██████████| 2/2 [00:00<00:00, 286.48it/s]\n",
      "100%|██████████| 2/2 [00:00<?, ?it/s]\n"
     ]
    },
    {
     "name": "stdout",
     "output_type": "stream",
     "text": [
      "source data shape:  (1284, 1) (1284, 1)\n"
     ]
    },
    {
     "name": "stderr",
     "output_type": "stream",
     "text": [
      "100%|██████████| 2/2 [00:00<00:00, 501.38it/s]"
     ]
    },
    {
     "name": "stdout",
     "output_type": "stream",
     "text": [
      "Using control points [0.0000000e+00 0.0000000e+00 1.0483503e-09]\n"
     ]
    },
    {
     "name": "stderr",
     "output_type": "stream",
     "text": [
      "\n"
     ]
    },
    {
     "name": "stdout",
     "output_type": "stream",
     "text": [
      "Using control points [1.58812099e-10 2.09237294e-10 5.01467817e-10]\n",
      "Using control points [1.46255978e-08 1.57952376e-08 2.02801122e-08]\n"
     ]
    },
    {
     "data": {
      "text/plain": [
       "<mne.viz._brain._brain.Brain at 0x1db90b7c520>"
      ]
     },
     "execution_count": 26,
     "metadata": {},
     "output_type": "execute_result"
    },
    {
     "name": "stdout",
     "output_type": "stream",
     "text": [
      "Using control points [1.46255978e-08 1.57952376e-08 2.02801122e-08]\n"
     ]
    }
   ],
   "source": [
    "# simulate new sample\n",
    "settings=dict(duration_of_trial=0., extents=(25, 35), number_of_sources=1)\n",
    "\n",
    "sim_test = Simulation(fwd, info, settings=settings).simulate(2)\n",
    "sim_test.source_data[0].plot(**pp)\n",
    "y = sim_test.source_data[0].data\n",
    "x = sim_test.eeg_data[0].average().data\n",
    "\n",
    "# minimum norm\n",
    "K_inv = np.linalg.pinv(np.dot(leadfield, leadfield.T))\n",
    "w = np.matmul(K_inv, x)\n",
    "y_hat = np.matmul(w.T, leadfield)\n",
    "source_hat = source.copy()\n",
    "source_hat.data = y_hat.T\n",
    "source_hat.plot(**pp)\n",
    "\n",
    "# optimized inverse solution\n",
    "w = np.matmul(K_inv_opt, x)\n",
    "y_hat = np.matmul(w.T, leadfield)\n",
    "source_hat = source.copy()\n",
    "source_hat.data = y_hat.T\n",
    "source_hat.plot(**pp)"
   ]
  },
  {
   "cell_type": "code",
   "execution_count": null,
   "metadata": {},
   "outputs": [],
   "source": []
  }
 ],
 "metadata": {
  "interpreter": {
   "hash": "a9587d79750f5d7fc5c0560e15a7a8a49dff11015373bda407c2fe4ab31d0fe5"
  },
  "kernelspec": {
   "display_name": "Python 3.8.10 ('esienv')",
   "language": "python",
   "name": "python3"
  },
  "language_info": {
   "codemirror_mode": {
    "name": "ipython",
    "version": 3
   },
   "file_extension": ".py",
   "mimetype": "text/x-python",
   "name": "python",
   "nbconvert_exporter": "python",
   "pygments_lexer": "ipython3",
   "version": "3.8.10"
  },
  "orig_nbformat": 4
 },
 "nbformat": 4,
 "nbformat_minor": 2
}
