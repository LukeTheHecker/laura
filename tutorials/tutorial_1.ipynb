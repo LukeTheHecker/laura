{
 "cells": [
  {
   "cell_type": "markdown",
   "metadata": {},
   "source": [
    "# Tutorial 1: Quick example of Local AUto-Regressive Average (LAURA)"
   ]
  },
  {
   "cell_type": "code",
   "execution_count": 1,
   "metadata": {},
   "outputs": [],
   "source": [
    "import os\n",
    "import mne\n",
    "import numpy as np\n",
    "\n",
    "import sys; sys.path.insert(0, '../')\n",
    "from laura import compute_laura, pos_from_forward"
   ]
  },
  {
   "cell_type": "markdown",
   "metadata": {},
   "source": [
    "# Definitions"
   ]
  },
  {
   "cell_type": "code",
   "execution_count": 2,
   "metadata": {},
   "outputs": [],
   "source": [
    "verbose = 0\n",
    "spacing = 'ico3'\n",
    "fs_dir = mne.datasets.fetch_fsaverage(verbose=verbose)\n",
    "subjects_dir = os.path.dirname(fs_dir)\n",
    "\n",
    "# The files live in:\n",
    "subject = 'fsaverage'\n",
    "trans = os.path.join(fs_dir, 'bem', 'fsaverage-trans.fif')\n",
    "src = os.path.join(fs_dir, 'bem', 'fsaverage-ico-5-src.fif')\n",
    "bem = os.path.join(fs_dir, 'bem', 'fsaverage-5120-5120-5120-bem-sol.fif')"
   ]
  },
  {
   "cell_type": "markdown",
   "metadata": {},
   "source": [
    "# Create Standard Forward Model"
   ]
  },
  {
   "cell_type": "code",
   "execution_count": 3,
   "metadata": {},
   "outputs": [
    {
     "name": "stderr",
     "output_type": "stream",
     "text": [
      "C:\\Users\\Lukas\\AppData\\Local\\Temp\\ipykernel_5624\\2535841669.py:15: RuntimeWarning: joblib not installed. Cannot run in parallel.\n",
      "  fwd = mne.make_forward_solution(info, trans=trans, src=src,\n",
      "C:\\Users\\Lukas\\AppData\\Local\\Temp\\ipykernel_5624\\2535841669.py:15: RuntimeWarning: joblib not installed. Cannot run in parallel.\n",
      "  fwd = mne.make_forward_solution(info, trans=trans, src=src,\n",
      "C:\\Users\\Lukas\\AppData\\Local\\Temp\\ipykernel_5624\\2535841669.py:15: RuntimeWarning: joblib not installed. Cannot run in parallel.\n",
      "  fwd = mne.make_forward_solution(info, trans=trans, src=src,\n"
     ]
    }
   ],
   "source": [
    "# Create our own info object, see e.g.:\n",
    "montage = mne.channels.make_standard_montage(\"standard_1020\")\n",
    "sfreq = 1000 \n",
    "info = mne.create_info(montage.ch_names, sfreq, \n",
    "    ch_types=['eeg']*len(montage.ch_names), verbose=0)\n",
    "info.set_montage(\"standard_1020\")\n",
    "\n",
    "# Create and save Source Model\n",
    "src = mne.setup_source_space(subject, spacing=spacing, surface='white',\n",
    "                                    subjects_dir=subjects_dir, add_dist=False,\n",
    "                                    n_jobs=-1, verbose=verbose)\n",
    "\n",
    "# Forward Model\n",
    "fwd = mne.make_forward_solution(info, trans=trans, src=src,\n",
    "                                bem=bem, eeg=True, mindist=5.0, n_jobs=-1,\n",
    "                                verbose=verbose)\n",
    "fwd = mne.convert_forward_solution(fwd, surf_ori=True, force_fixed=True,\n",
    "                                    use_cps=True, verbose=verbose)\n",
    "leadfield = fwd['sol']['data']\n",
    "pos = pos_from_forward(fwd)"
   ]
  },
  {
   "cell_type": "markdown",
   "metadata": {},
   "source": [
    "# Compute LAURA inverse solution"
   ]
  },
  {
   "cell_type": "code",
   "execution_count": 4,
   "metadata": {},
   "outputs": [
    {
     "name": "stderr",
     "output_type": "stream",
     "text": [
      "c:\\Users\\Lukas\\Documents\\projects\\laura\\dev\\..\\laura\\laura.py:132: RuntimeWarning: divide by zero encountered in power\n",
      "  A = -d**-drop_off\n"
     ]
    }
   ],
   "source": [
    "idx = 100\n",
    "evoked = mne.EvokedArray(leadfield[:, idx][:, np.newaxis], info)\n",
    "stc = compute_laura(evoked, fwd)"
   ]
  },
  {
   "cell_type": "markdown",
   "metadata": {},
   "source": [
    "# Plot Results"
   ]
  },
  {
   "cell_type": "code",
   "execution_count": 5,
   "metadata": {},
   "outputs": [
    {
     "name": "stdout",
     "output_type": "stream",
     "text": [
      "Using pyvistaqt 3d backend.\n",
      "\n",
      "Using control points [0.02111491 0.02642977 0.13539263]\n",
      "For automatic theme detection, \"darkdetect\" has to be installed! You can install it with `pip install darkdetect`\n",
      "To use light mode, \"qdarkstyle\" has to be installed! You can install it with `pip install qdarkstyle`\n",
      "Using control points [0.02111491 0.02642977 0.13539263]\n",
      "Using control points [0.02111491 0.02642977 0.13539263]\n"
     ]
    }
   ],
   "source": [
    "%matplotlib qt\n",
    "\n",
    "pp = dict(hemi='both', surface='white')\n",
    "brain = stc.plot(**pp)\n",
    "if pos[idx, 0]<0:\n",
    "    brain.add_foci(pos[idx], hemi='lh', color='green')\n",
    "else:\n",
    "    brain.add_foci(pos[idx], hemi='rh', color='green')"
   ]
  }
 ],
 "metadata": {
  "interpreter": {
   "hash": "11687e7ccbd6f2c7ef6c999f0f99db98545337d6dd6841e96303b9ceb836d3de"
  },
  "kernelspec": {
   "display_name": "Python 3.8.10 ('laura')",
   "language": "python",
   "name": "python3"
  },
  "language_info": {
   "codemirror_mode": {
    "name": "ipython",
    "version": 3
   },
   "file_extension": ".py",
   "mimetype": "text/x-python",
   "name": "python",
   "nbconvert_exporter": "python",
   "pygments_lexer": "ipython3",
   "version": "3.8.10"
  },
  "orig_nbformat": 4
 },
 "nbformat": 4,
 "nbformat_minor": 2
}
