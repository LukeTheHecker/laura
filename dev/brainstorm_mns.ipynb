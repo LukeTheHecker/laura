{
 "cells": [
  {
   "cell_type": "code",
   "execution_count": 4,
   "metadata": {},
   "outputs": [
    {
     "name": "stdout",
     "output_type": "stream",
     "text": [
      "The autoreload extension is already loaded. To reload it, use:\n",
      "  %reload_ext autoreload\n",
      "Automatically created module for IPython interactive environment\n",
      "ds directory : C:\\Users\\Lukas\\mne_data\\MNE-brainstorm-data\\bst_raw\\MEG\\bst_raw\\subj001_somatosensory_20111109_01_AUX-f.ds\n",
      "    res4 data read.\n",
      "    hc data read.\n",
      "    Separate EEG position data file not present.\n",
      "    Quaternion matching (desired vs. transformed):\n",
      "       0.84   69.49    0.00 mm <->    0.84   69.49   -0.00 mm (orig :  -44.30   51.45 -252.43 mm) diff =    0.000 mm\n",
      "      -0.84  -69.49    0.00 mm <->   -0.84  -69.49    0.00 mm (orig :   46.28  -53.58 -243.47 mm) diff =    0.000 mm\n",
      "      86.41    0.00    0.00 mm <->   86.41    0.00    0.00 mm (orig :   63.60   55.82 -230.26 mm) diff =    0.000 mm\n",
      "    Coordinate transformations established.\n",
      "    Reading digitizer points from ['C:\\\\Users\\\\Lukas\\\\mne_data\\\\MNE-brainstorm-data\\\\bst_raw\\\\MEG\\\\bst_raw\\\\subj001_somatosensory_20111109_01_AUX-f.ds\\\\subj00111092011.pos']...\n",
      "    Polhemus data for 3 HPI coils added\n",
      "    Device coordinate locations for 3 HPI coils added\n",
      "Picked positions of 2 EEG channels from channel info\n",
      "    2 EEG locations added to Polhemus data.\n",
      "    Measurement info composed.\n",
      "Finding samples for C:\\Users\\Lukas\\mne_data\\MNE-brainstorm-data\\bst_raw\\MEG\\bst_raw\\subj001_somatosensory_20111109_01_AUX-f.ds\\subj001_somatosensory_20111109_01_AUX-f.meg4: \n",
      "    System clock channel is available, checking which samples are valid.\n",
      "    240 x 1800 = 432000 samples from 302 chs\n",
      "Current compensation grade : 3\n",
      "Reading 0 ... 216000  =      0.000 ...   180.000 secs...\n",
      "Adding average EEG reference projection.\n",
      "1 projection items deactivated\n",
      "Average reference projection was added, but has not been applied yet. Use the apply_proj method to apply it.\n",
      "Effective window size : 1.707 (s)\n",
      "Effective window size : 1.707 (s)\n",
      "Need more than one channel to make topography for eeg. Disabling interactivity.\n",
      "Setting up band-stop filter\n",
      "\n",
      "FIR filter parameters\n",
      "---------------------\n",
      "Designing a one-pass, zero-phase, non-causal bandstop filter:\n",
      "- Windowed time-domain design (firwin) method\n",
      "- Hamming window with 0.0194 passband ripple and 53 dB stopband attenuation\n",
      "- Lower transition bandwidth: 0.50 Hz\n",
      "- Upper transition bandwidth: 0.50 Hz\n",
      "- Filter length: 7921 samples (6.601 sec)\n",
      "\n",
      "98 events found\n",
      "Event IDs: [1 2]\n",
      "Not setting metadata\n",
      "Not setting metadata\n",
      "53 matching events found\n",
      "Setting baseline interval to [-0.1, 0.0] sec\n",
      "Applying baseline correction (mode: mean)\n",
      "1 projection items activated\n",
      "    Rejecting  epoch based on EOG : ['EEG058']\n",
      "    Rejecting  epoch based on EOG : ['EEG058']\n",
      "Removing projector <Projection | Average EEG reference, active : True, n_channels : 1>\n",
      "No gradiometers found. Forcing n_grad to 0\n",
      "No EEG channels found. Forcing n_eeg to 0\n",
      "Adding projection: axial--0.100-0.000-PCA-01\n",
      "Adding projection: axial--0.100-0.000-PCA-02\n",
      "2 projection items deactivated\n",
      "Created an SSP operator (subspace dimension = 2)\n",
      "2 projection items activated\n",
      "SSP projectors applied...\n",
      "Removing 5 compensators from info because not all compensation channels were picked.\n",
      "Loading data for 53 events and 481 original time points ...\n",
      "    Rejecting  epoch based on EOG : ['EEG058']\n",
      "    Rejecting  epoch based on EOG : ['EEG058']\n",
      "2 bad epochs dropped\n",
      "Computing rank from data with rank=None\n",
      "    Using tolerance 6.8e-09 (2.2e-16 eps * 272 dim * 1.1e+05  max singular value)\n",
      "    Estimated rank (mag): 272\n",
      "    MAG: rank 272 computed from 272 data channels with 0 projectors\n",
      "Reducing data rank from 272 -> 272\n",
      "Estimating covariance using EMPIRICAL\n",
      "Done.\n",
      "Number of samples used : 6171\n",
      "[done]\n"
     ]
    },
    {
     "name": "stderr",
     "output_type": "stream",
     "text": [
      "[Parallel(n_jobs=4)]: Using backend LokyBackend with 4 concurrent workers.\n",
      "[Parallel(n_jobs=4)]: Done   2 out of   4 | elapsed:    1.2s remaining:    1.2s\n",
      "[Parallel(n_jobs=4)]: Done   4 out of   4 | elapsed:    1.4s remaining:    0.0s\n",
      "[Parallel(n_jobs=4)]: Done   4 out of   4 | elapsed:    1.4s finished\n",
      "[Parallel(n_jobs=4)]: Using backend LokyBackend with 4 concurrent workers.\n",
      "[Parallel(n_jobs=4)]: Done   2 out of   4 | elapsed:    0.1s remaining:    0.1s\n",
      "[Parallel(n_jobs=4)]: Done   4 out of   4 | elapsed:    0.1s remaining:    0.0s\n",
      "[Parallel(n_jobs=4)]: Done   4 out of   4 | elapsed:    0.1s finished\n",
      "[Parallel(n_jobs=4)]: Using backend LokyBackend with 4 concurrent workers.\n",
      "[Parallel(n_jobs=4)]: Done   2 out of   4 | elapsed:    0.8s remaining:    0.8s\n",
      "[Parallel(n_jobs=4)]: Done   4 out of   4 | elapsed:    0.9s remaining:    0.0s\n",
      "[Parallel(n_jobs=4)]: Done   4 out of   4 | elapsed:    0.9s finished\n",
      "[Parallel(n_jobs=4)]: Using backend LokyBackend with 4 concurrent workers.\n",
      "[Parallel(n_jobs=4)]: Done   2 out of   4 | elapsed:    1.0s remaining:    1.0s\n",
      "[Parallel(n_jobs=4)]: Done   4 out of   4 | elapsed:    1.0s remaining:    0.0s\n",
      "[Parallel(n_jobs=4)]: Done   4 out of   4 | elapsed:    1.0s finished\n",
      "[Parallel(n_jobs=4)]: Using backend LokyBackend with 4 concurrent workers.\n",
      "[Parallel(n_jobs=4)]: Done   2 out of   4 | elapsed:    1.1s remaining:    1.1s\n",
      "[Parallel(n_jobs=4)]: Done   4 out of   4 | elapsed:    1.1s remaining:    0.0s\n",
      "[Parallel(n_jobs=4)]: Done   4 out of   4 | elapsed:    1.1s finished\n",
      "[Parallel(n_jobs=4)]: Using backend LokyBackend with 4 concurrent workers.\n",
      "[Parallel(n_jobs=4)]: Done   2 out of   4 | elapsed:    1.0s remaining:    1.0s\n",
      "[Parallel(n_jobs=4)]: Done   4 out of   4 | elapsed:    1.1s remaining:    0.0s\n",
      "[Parallel(n_jobs=4)]: Done   4 out of   4 | elapsed:    1.1s finished\n",
      "[Parallel(n_jobs=4)]: Using backend LokyBackend with 4 concurrent workers.\n",
      "[Parallel(n_jobs=4)]: Done   2 out of   4 | elapsed:    1.1s remaining:    1.1s\n",
      "[Parallel(n_jobs=4)]: Done   4 out of   4 | elapsed:    1.1s remaining:    0.0s\n",
      "[Parallel(n_jobs=4)]: Done   4 out of   4 | elapsed:    1.1s finished\n",
      "[Parallel(n_jobs=4)]: Using backend LokyBackend with 4 concurrent workers.\n",
      "[Parallel(n_jobs=4)]: Done   2 out of   4 | elapsed:    0.9s remaining:    0.9s\n",
      "[Parallel(n_jobs=4)]: Done   4 out of   4 | elapsed:    1.0s remaining:    0.0s\n",
      "[Parallel(n_jobs=4)]: Done   4 out of   4 | elapsed:    1.0s finished\n",
      "[Parallel(n_jobs=4)]: Using backend LokyBackend with 4 concurrent workers.\n",
      "[Parallel(n_jobs=4)]: Done   2 out of   4 | elapsed:    0.6s remaining:    0.6s\n",
      "[Parallel(n_jobs=4)]: Done   4 out of   4 | elapsed:    0.7s remaining:    0.0s\n",
      "[Parallel(n_jobs=4)]: Done   4 out of   4 | elapsed:    0.7s finished\n",
      "[Parallel(n_jobs=4)]: Using backend LokyBackend with 4 concurrent workers.\n",
      "[Parallel(n_jobs=4)]: Done   2 out of   4 | elapsed:    0.6s remaining:    0.6s\n",
      "[Parallel(n_jobs=4)]: Done   4 out of   4 | elapsed:    0.7s remaining:    0.0s\n",
      "[Parallel(n_jobs=4)]: Done   4 out of   4 | elapsed:    0.7s finished\n",
      "[Parallel(n_jobs=4)]: Using backend LokyBackend with 4 concurrent workers.\n",
      "[Parallel(n_jobs=4)]: Done   2 out of   4 | elapsed:    0.6s remaining:    0.6s\n",
      "[Parallel(n_jobs=4)]: Done   4 out of   4 | elapsed:    0.7s remaining:    0.0s\n",
      "[Parallel(n_jobs=4)]: Done   4 out of   4 | elapsed:    0.7s finished\n",
      "[Parallel(n_jobs=4)]: Using backend LokyBackend with 4 concurrent workers.\n",
      "[Parallel(n_jobs=4)]: Done   2 out of   4 | elapsed:    0.2s remaining:    0.2s\n",
      "[Parallel(n_jobs=4)]: Done   4 out of   4 | elapsed:    0.2s remaining:    0.0s\n",
      "[Parallel(n_jobs=4)]: Done   4 out of   4 | elapsed:    0.2s finished\n",
      "[Parallel(n_jobs=4)]: Using backend LokyBackend with 4 concurrent workers.\n",
      "[Parallel(n_jobs=4)]: Done   2 out of   4 | elapsed:    0.1s remaining:    0.1s\n",
      "[Parallel(n_jobs=4)]: Done   4 out of   4 | elapsed:    0.1s remaining:    0.0s\n",
      "[Parallel(n_jobs=4)]: Done   4 out of   4 | elapsed:    0.1s finished\n",
      "[Parallel(n_jobs=4)]: Using backend LokyBackend with 4 concurrent workers.\n",
      "[Parallel(n_jobs=4)]: Done   2 out of   4 | elapsed:    0.1s remaining:    0.1s\n",
      "[Parallel(n_jobs=4)]: Done   4 out of   4 | elapsed:    0.1s remaining:    0.0s\n",
      "[Parallel(n_jobs=4)]: Done   4 out of   4 | elapsed:    0.1s finished\n",
      "[Parallel(n_jobs=4)]: Using backend LokyBackend with 4 concurrent workers.\n",
      "[Parallel(n_jobs=4)]: Done   2 out of   4 | elapsed:    0.6s remaining:    0.6s\n",
      "[Parallel(n_jobs=4)]: Done   4 out of   4 | elapsed:    0.6s remaining:    0.0s\n",
      "[Parallel(n_jobs=4)]: Done   4 out of   4 | elapsed:    0.6s finished\n",
      "[Parallel(n_jobs=4)]: Using backend LokyBackend with 4 concurrent workers.\n",
      "[Parallel(n_jobs=4)]: Done   2 out of   4 | elapsed:    0.0s remaining:    0.0s\n",
      "[Parallel(n_jobs=4)]: Done   4 out of   4 | elapsed:    0.0s remaining:    0.0s\n",
      "[Parallel(n_jobs=4)]: Done   4 out of   4 | elapsed:    0.0s finished\n",
      "[Parallel(n_jobs=4)]: Using backend LokyBackend with 4 concurrent workers.\n",
      "[Parallel(n_jobs=4)]: Done   2 out of   4 | elapsed:    0.2s remaining:    0.2s\n",
      "[Parallel(n_jobs=4)]: Done   4 out of   4 | elapsed:    0.2s remaining:    0.0s\n",
      "[Parallel(n_jobs=4)]: Done   4 out of   4 | elapsed:    0.2s finished\n",
      "[Parallel(n_jobs=4)]: Using backend LokyBackend with 4 concurrent workers.\n",
      "[Parallel(n_jobs=4)]: Done   2 out of   4 | elapsed:    0.0s remaining:    0.0s\n",
      "[Parallel(n_jobs=4)]: Done   4 out of   4 | elapsed:    0.0s remaining:    0.0s\n",
      "[Parallel(n_jobs=4)]: Done   4 out of   4 | elapsed:    0.0s finished\n"
     ]
    }
   ],
   "source": [
    "import numpy as np\n",
    "%matplotlib qt\n",
    "%load_ext autoreload\n",
    "%autoreload 2\n",
    "import mne\n",
    "from mne.datasets.brainstorm import bst_raw\n",
    "from mne.io import read_raw_ctf\n",
    "import sys; sys.path.insert(0, '../../esinet')\n",
    "from esinet import util\n",
    "from esinet import Simulation\n",
    "from esinet import Net\n",
    "from esinet.forward import create_forward_model\n",
    "import os\n",
    "sys.path.insert(0, \"../\")\n",
    "from laura import *\n",
    "\n",
    "print(__doc__)\n",
    "\n",
    "tmin, tmax, event_id = -0.1, 0.3, 2  # take right-hand somato\n",
    "reject = dict(mag=4e-12, eog=250e-6)\n",
    "\n",
    "data_path = bst_raw.data_path()\n",
    "\n",
    "raw_path = os.path.join(data_path, 'MEG', 'bst_raw', \n",
    "    'subj001_somatosensory_20111109_01_AUX-f.ds')\n",
    "# Here we crop to half the length to save memory\n",
    "raw = read_raw_ctf(raw_path).crop(0, 180).load_data()\n",
    "raw.plot()\n",
    "\n",
    "# set EOG channel\n",
    "raw.set_channel_types({'EEG058': 'eog'})\n",
    "raw.set_eeg_reference('average', projection=True)\n",
    "\n",
    "# show power line interference and remove it\n",
    "raw.plot_psd(tmax=60., average=False)\n",
    "raw.notch_filter(np.arange(60, 181, 60), fir_design='firwin')\n",
    "\n",
    "events = mne.find_events(raw, stim_channel='UPPT001')\n",
    "\n",
    "# pick MEG channels\n",
    "picks = mne.pick_types(raw.info, meg=True, eeg=False, stim=False, eog=True,\n",
    "                       exclude='bads')\n",
    "\n",
    "# Compute epochs\n",
    "epochs = mne.Epochs(raw, events, event_id, tmin, tmax, picks=picks,\n",
    "                    baseline=(None, 0), reject=reject, preload=False)\n",
    "\n",
    "# compute evoked\n",
    "evoked = epochs.average()\n",
    "\n",
    "# remove physiological artifacts (eyeblinks, heartbeats) using SSP on baseline\n",
    "evoked.add_proj(mne.compute_proj_evoked(evoked.copy().crop(tmax=0)))\n",
    "evoked.apply_proj()\n",
    "\n",
    "# fix stim artifact\n",
    "mne.preprocessing.fix_stim_artifact(evoked)\n",
    "\n",
    "# correct delays due to hardware (stim artifact is at 4 ms)\n",
    "evoked.shift_time(-0.004)\n",
    "\n",
    "# plot the result\n",
    "evoked.plot(time_unit='s')\n",
    "\n",
    "# show topomaps\n",
    "evoked.plot_topomap(times=np.array([0.016, 0.030, 0.060, 0.070]),\n",
    "                    time_unit='s', title=\"True Evoked\")\n",
    "\n",
    "noise_cov = mne.compute_covariance(epochs, tmax=0)\n",
    "fwd_small = create_forward_model(info=evoked.info, sampling='ico3')"
   ]
  },
  {
   "cell_type": "markdown",
   "metadata": {},
   "source": [
    "# Calc and plot LAURA"
   ]
  },
  {
   "cell_type": "code",
   "execution_count": 7,
   "metadata": {},
   "outputs": [
    {
     "name": "stdout",
     "output_type": "stream",
     "text": [
      "Removing projector <Projection | Average EEG reference, active : True, n_channels : 1>\n",
      "Removing 5 compensators from info because not all compensation channels were picked.\n",
      "-- number of adjacent vertices : 1284\n"
     ]
    },
    {
     "name": "stderr",
     "output_type": "stream",
     "text": [
      "c:\\Users\\Lukas\\Documents\\projects\\laura\\dev\\..\\laura\\laura.py:129: RuntimeWarning: divide by zero encountered in power\n",
      "  else:\n"
     ]
    },
    {
     "data": {
      "text/plain": [
       "<mne.viz._brain._brain.Brain at 0x20b56521cd0>"
      ]
     },
     "execution_count": 7,
     "metadata": {},
     "output_type": "execute_result"
    },
    {
     "name": "stdout",
     "output_type": "stream",
     "text": [
      "Using control points [6.23124876e-13 7.81734361e-13 1.58704275e-12]\n"
     ]
    },
    {
     "name": "stderr",
     "output_type": "stream",
     "text": [
      "WARNING:root:Encountered issue in callback (most recent call last):\n",
      "  File \"c:\\Users\\Lukas\\Envs\\esienv\\lib\\site-packages\\mne\\viz\\_brain\\_brain.py\", line 1348, in _on_button_release\n",
      "    self.picked_renderer = self.plotter.iren.FindPokedRenderer(x, y)\n",
      "AttributeError: 'RenderWindowInteractor' object has no attribute 'FindPokedRenderer'\n"
     ]
    },
    {
     "name": "stdout",
     "output_type": "stream",
     "text": [
      "Channels marked as bad: none\n"
     ]
    }
   ],
   "source": [
    "subjects_dir = mne.datasets.sample.data_path() + '\\\\subjects'\n",
    "clim=dict(kind='percent', pos_lims=(0,50,99))\n",
    "plot_params = dict(surface='white', hemi='both', verbose=0, subjects_dir=subjects_dir, clim=clim)\n",
    "\n",
    "stc_laura = apply_laura(epochs.average(), fwd_small, reg=0.0005, noise_cov=None)\n",
    "stc_laura.plot(**plot_params)\n",
    "\n",
    "# evoked_laura = util.get_eeg_from_source(stc_laura, fwd_small, evoked.info, tmin=evoked.tmin)\n",
    "# evoked.plot_topomap(times=np.array([0.016, 0.030, 0.060, 0.070]),\n",
    "#                     time_unit='s', title=\"True Evoked\")\n",
    "# evoked_laura.plot_topomap(times=np.array([0.016, 0.030, 0.060, 0.070]),\n",
    "#                     time_unit='s', title='LAURA')"
   ]
  },
  {
   "cell_type": "markdown",
   "metadata": {},
   "source": [
    "# elor"
   ]
  },
  {
   "cell_type": "code",
   "execution_count": 56,
   "metadata": {},
   "outputs": [
    {
     "name": "stdout",
     "output_type": "stream",
     "text": [
      "Removing projector <Projection | Average EEG reference, active : True, n_channels : 1>\n"
     ]
    },
    {
     "ename": "KeyboardInterrupt",
     "evalue": "",
     "output_type": "error",
     "traceback": [
      "\u001b[1;31m---------------------------------------------------------------------------\u001b[0m",
      "\u001b[1;31mKeyboardInterrupt\u001b[0m                         Traceback (most recent call last)",
      "\u001b[1;32m~\\AppData\\Local\\Temp/ipykernel_10380/608012738.py\u001b[0m in \u001b[0;36m<module>\u001b[1;34m\u001b[0m\n\u001b[0;32m      9\u001b[0m     verbose=False)\n\u001b[0;32m     10\u001b[0m \u001b[1;33m\u001b[0m\u001b[0m\n\u001b[1;32m---> 11\u001b[1;33m stc_elor, residual = mne.minimum_norm.apply_inverse(epochs.average(), inverse_operator, lambda2,\n\u001b[0m\u001b[0;32m     12\u001b[0m                               method=method, return_residual=True, verbose=False)\n\u001b[0;32m     13\u001b[0m \u001b[0mbrain\u001b[0m \u001b[1;33m=\u001b[0m \u001b[0mnp\u001b[0m\u001b[1;33m.\u001b[0m\u001b[0mabs\u001b[0m\u001b[1;33m(\u001b[0m\u001b[0mstc_elor\u001b[0m\u001b[1;33m)\u001b[0m\u001b[1;33m.\u001b[0m\u001b[0mplot\u001b[0m\u001b[1;33m(\u001b[0m\u001b[1;33m**\u001b[0m\u001b[0mplot_params\u001b[0m\u001b[1;33m)\u001b[0m\u001b[1;33m\u001b[0m\u001b[1;33m\u001b[0m\u001b[0m\n",
      "\u001b[1;32m<decorator-gen-355>\u001b[0m in \u001b[0;36mapply_inverse\u001b[1;34m(evoked, inverse_operator, lambda2, method, pick_ori, prepared, label, method_params, return_residual, use_cps, verbose)\u001b[0m\n",
      "\u001b[1;32mc:\\Users\\Lukas\\Envs\\esienv\\lib\\site-packages\\mne\\minimum_norm\\inverse.py\u001b[0m in \u001b[0;36mapply_inverse\u001b[1;34m(evoked, inverse_operator, lambda2, method, pick_ori, prepared, label, method_params, return_residual, use_cps, verbose)\u001b[0m\n\u001b[0;32m    895\u001b[0m     \u001b[1;33m.\u001b[0m\u001b[1;33m.\u001b[0m \u001b[0mfootbibliography\u001b[0m\u001b[1;33m:\u001b[0m\u001b[1;33m:\u001b[0m\u001b[1;33m\u001b[0m\u001b[1;33m\u001b[0m\u001b[0m\n\u001b[0;32m    896\u001b[0m     \"\"\"\n\u001b[1;32m--> 897\u001b[1;33m     out = _apply_inverse(\n\u001b[0m\u001b[0;32m    898\u001b[0m         \u001b[0mevoked\u001b[0m\u001b[1;33m,\u001b[0m \u001b[0minverse_operator\u001b[0m\u001b[1;33m,\u001b[0m \u001b[0mlambda2\u001b[0m\u001b[1;33m,\u001b[0m \u001b[0mmethod\u001b[0m\u001b[1;33m,\u001b[0m \u001b[0mpick_ori\u001b[0m\u001b[1;33m,\u001b[0m \u001b[0mprepared\u001b[0m\u001b[1;33m,\u001b[0m \u001b[0mlabel\u001b[0m\u001b[1;33m,\u001b[0m\u001b[1;33m\u001b[0m\u001b[1;33m\u001b[0m\u001b[0m\n\u001b[0;32m    899\u001b[0m         method_params, return_residual, use_cps)\n",
      "\u001b[1;32mc:\\Users\\Lukas\\Envs\\esienv\\lib\\site-packages\\mne\\minimum_norm\\inverse.py\u001b[0m in \u001b[0;36m_apply_inverse\u001b[1;34m(evoked, inverse_operator, lambda2, method, pick_ori, prepared, label, method_params, return_residual, use_cps)\u001b[0m\n\u001b[0;32m    925\u001b[0m     \u001b[0m_check_ch_names\u001b[0m\u001b[1;33m(\u001b[0m\u001b[0minverse_operator\u001b[0m\u001b[1;33m,\u001b[0m \u001b[0mevoked\u001b[0m\u001b[1;33m.\u001b[0m\u001b[0minfo\u001b[0m\u001b[1;33m)\u001b[0m\u001b[1;33m\u001b[0m\u001b[1;33m\u001b[0m\u001b[0m\n\u001b[0;32m    926\u001b[0m \u001b[1;33m\u001b[0m\u001b[0m\n\u001b[1;32m--> 927\u001b[1;33m     inv = _check_or_prepare(inverse_operator, nave, lambda2, method,\n\u001b[0m\u001b[0;32m    928\u001b[0m                             method_params, prepared, copy='non-src')\n\u001b[0;32m    929\u001b[0m     \u001b[1;32mdel\u001b[0m \u001b[0minverse_operator\u001b[0m\u001b[1;33m\u001b[0m\u001b[1;33m\u001b[0m\u001b[0m\n",
      "\u001b[1;32mc:\\Users\\Lukas\\Envs\\esienv\\lib\\site-packages\\mne\\minimum_norm\\inverse.py\u001b[0m in \u001b[0;36m_check_or_prepare\u001b[1;34m(inv, nave, lambda2, method, method_params, prepared, copy)\u001b[0m\n\u001b[0;32m    487\u001b[0m     \u001b[1;34m\"\"\"Check if inverse was prepared, or prepare it.\"\"\"\u001b[0m\u001b[1;33m\u001b[0m\u001b[1;33m\u001b[0m\u001b[0m\n\u001b[0;32m    488\u001b[0m     \u001b[1;32mif\u001b[0m \u001b[1;32mnot\u001b[0m \u001b[0mprepared\u001b[0m\u001b[1;33m:\u001b[0m\u001b[1;33m\u001b[0m\u001b[1;33m\u001b[0m\u001b[0m\n\u001b[1;32m--> 489\u001b[1;33m         inv = prepare_inverse_operator(\n\u001b[0m\u001b[0;32m    490\u001b[0m             inv, nave, lambda2, method, method_params, copy=copy)\n\u001b[0;32m    491\u001b[0m     \u001b[1;32melif\u001b[0m \u001b[1;34m'colorer'\u001b[0m \u001b[1;32mnot\u001b[0m \u001b[1;32min\u001b[0m \u001b[0minv\u001b[0m\u001b[1;33m:\u001b[0m\u001b[1;33m\u001b[0m\u001b[1;33m\u001b[0m\u001b[0m\n",
      "\u001b[1;32m<decorator-gen-353>\u001b[0m in \u001b[0;36mprepare_inverse_operator\u001b[1;34m(orig, nave, lambda2, method, method_params, copy, verbose)\u001b[0m\n",
      "\u001b[1;32mc:\\Users\\Lukas\\Envs\\esienv\\lib\\site-packages\\mne\\minimum_norm\\inverse.py\u001b[0m in \u001b[0;36mprepare_inverse_operator\u001b[1;34m(***failed resolving arguments***)\u001b[0m\n\u001b[0;32m    598\u001b[0m     \u001b[0minv\u001b[0m\u001b[1;33m[\u001b[0m\u001b[1;34m'noisenorm'\u001b[0m\u001b[1;33m]\u001b[0m \u001b[1;33m=\u001b[0m \u001b[1;33m[\u001b[0m\u001b[1;33m]\u001b[0m\u001b[1;33m\u001b[0m\u001b[1;33m\u001b[0m\u001b[0m\n\u001b[0;32m    599\u001b[0m     \u001b[1;32mif\u001b[0m \u001b[0mmethod\u001b[0m \u001b[1;33m==\u001b[0m \u001b[1;34m'eLORETA'\u001b[0m\u001b[1;33m:\u001b[0m\u001b[1;33m\u001b[0m\u001b[1;33m\u001b[0m\u001b[0m\n\u001b[1;32m--> 600\u001b[1;33m         \u001b[0m_compute_eloreta\u001b[0m\u001b[1;33m(\u001b[0m\u001b[0minv\u001b[0m\u001b[1;33m,\u001b[0m \u001b[0mlambda2\u001b[0m\u001b[1;33m,\u001b[0m \u001b[0mmethod_params\u001b[0m\u001b[1;33m)\u001b[0m\u001b[1;33m\u001b[0m\u001b[1;33m\u001b[0m\u001b[0m\n\u001b[0m\u001b[0;32m    601\u001b[0m     \u001b[1;32melif\u001b[0m \u001b[0mmethod\u001b[0m \u001b[1;33m!=\u001b[0m \u001b[1;34m'MNE'\u001b[0m\u001b[1;33m:\u001b[0m\u001b[1;33m\u001b[0m\u001b[1;33m\u001b[0m\u001b[0m\n\u001b[0;32m    602\u001b[0m         logger.info('    Computing noise-normalization factors (%s)...'\n",
      "\u001b[1;32mc:\\Users\\Lukas\\Envs\\esienv\\lib\\site-packages\\mne\\minimum_norm\\_eloreta.py\u001b[0m in \u001b[0;36m_compute_eloreta\u001b[1;34m(inv, lambda2, options)\u001b[0m\n\u001b[0;32m     98\u001b[0m         \u001b[0mR_last\u001b[0m \u001b[1;33m=\u001b[0m \u001b[0mR\u001b[0m\u001b[1;33m.\u001b[0m\u001b[0mcopy\u001b[0m\u001b[1;33m(\u001b[0m\u001b[1;33m)\u001b[0m\u001b[1;33m\u001b[0m\u001b[1;33m\u001b[0m\u001b[0m\n\u001b[0;32m     99\u001b[0m         \u001b[1;32mif\u001b[0m \u001b[0mn_orient\u001b[0m \u001b[1;33m==\u001b[0m \u001b[1;36m1\u001b[0m\u001b[1;33m:\u001b[0m\u001b[1;33m\u001b[0m\u001b[1;33m\u001b[0m\u001b[0m\n\u001b[1;32m--> 100\u001b[1;33m             \u001b[0mR\u001b[0m\u001b[1;33m[\u001b[0m\u001b[1;33m:\u001b[0m\u001b[1;33m]\u001b[0m \u001b[1;33m=\u001b[0m \u001b[1;36m1.\u001b[0m \u001b[1;33m/\u001b[0m \u001b[0mnp\u001b[0m\u001b[1;33m.\u001b[0m\u001b[0msqrt\u001b[0m\u001b[1;33m(\u001b[0m\u001b[1;33m(\u001b[0m\u001b[0mnp\u001b[0m\u001b[1;33m.\u001b[0m\u001b[0mdot\u001b[0m\u001b[1;33m(\u001b[0m\u001b[0mN\u001b[0m\u001b[1;33m,\u001b[0m \u001b[0mG\u001b[0m\u001b[1;33m)\u001b[0m \u001b[1;33m*\u001b[0m \u001b[0mG\u001b[0m\u001b[1;33m)\u001b[0m\u001b[1;33m.\u001b[0m\u001b[0msum\u001b[0m\u001b[1;33m(\u001b[0m\u001b[1;36m0\u001b[0m\u001b[1;33m)\u001b[0m\u001b[1;33m)\u001b[0m\u001b[1;33m\u001b[0m\u001b[1;33m\u001b[0m\u001b[0m\n\u001b[0m\u001b[0;32m    101\u001b[0m         \u001b[1;32melse\u001b[0m\u001b[1;33m:\u001b[0m\u001b[1;33m\u001b[0m\u001b[1;33m\u001b[0m\u001b[0m\n\u001b[0;32m    102\u001b[0m             \u001b[0mM\u001b[0m \u001b[1;33m=\u001b[0m \u001b[0mnp\u001b[0m\u001b[1;33m.\u001b[0m\u001b[0mmatmul\u001b[0m\u001b[1;33m(\u001b[0m\u001b[0mnp\u001b[0m\u001b[1;33m.\u001b[0m\u001b[0mmatmul\u001b[0m\u001b[1;33m(\u001b[0m\u001b[0mG_3\u001b[0m\u001b[1;33m,\u001b[0m \u001b[0mN\u001b[0m\u001b[1;33m[\u001b[0m\u001b[0mnp\u001b[0m\u001b[1;33m.\u001b[0m\u001b[0mnewaxis\u001b[0m\u001b[1;33m]\u001b[0m\u001b[1;33m)\u001b[0m\u001b[1;33m,\u001b[0m \u001b[0mG_3\u001b[0m\u001b[1;33m.\u001b[0m\u001b[0mswapaxes\u001b[0m\u001b[1;33m(\u001b[0m\u001b[1;33m-\u001b[0m\u001b[1;36m2\u001b[0m\u001b[1;33m,\u001b[0m \u001b[1;33m-\u001b[0m\u001b[1;36m1\u001b[0m\u001b[1;33m)\u001b[0m\u001b[1;33m)\u001b[0m\u001b[1;33m\u001b[0m\u001b[1;33m\u001b[0m\u001b[0m\n",
      "\u001b[1;32mc:\\Users\\Lukas\\Envs\\esienv\\lib\\site-packages\\numpy\\core\\overrides.py\u001b[0m in \u001b[0;36mdot\u001b[1;34m(*args, **kwargs)\u001b[0m\n",
      "\u001b[1;31mKeyboardInterrupt\u001b[0m: "
     ]
    }
   ],
   "source": [
    "method = \"eLORETA\"\n",
    "snr = 3.\n",
    "lambda2 = 1. / snr ** 2\n",
    "# noise_cov = mne.compute_covariance(\n",
    "#     epochs, tmax=0., method=['shrunk', 'empirical'], rank=None, verbose=False)\n",
    "\n",
    "inverse_operator = mne.minimum_norm.make_inverse_operator(\n",
    "    evoked.info, fwd_small, noise_cov, loose='auto', depth=None, fixed=True, \n",
    "    verbose=False)\n",
    "    \n",
    "stc_elor, residual = mne.minimum_norm.apply_inverse(epochs.average(), inverse_operator, lambda2,\n",
    "                              method=method, return_residual=True, verbose=False)\n",
    "brain = np.abs(stc_elor).plot(**plot_params)\n",
    "brain.add_text(0.1, 0.9, 'eLORETA on auditory data', 'title',\n",
    "               font_size=14)\n",
    "# Plot predicted EEG\n",
    "epochs.load_data()\n",
    "evoked_elor = util.get_eeg_from_source(stc_elor, fwd_small, evoked.info, tmin=0.)\n",
    "evoked_elor.plot()\n",
    "evoked_elor.plot_joint(title='eLORETA')\n"
   ]
  },
  {
   "cell_type": "code",
   "execution_count": 77,
   "metadata": {},
   "outputs": [
    {
     "name": "stdout",
     "output_type": "stream",
     "text": [
      "Simulating data based on sparse patches.\n"
     ]
    },
    {
     "name": "stderr",
     "output_type": "stream",
     "text": [
      "100%|██████████| 2/2 [00:00<00:00, 250.68it/s]\n",
      "100%|██████████| 2/2 [00:00<00:00, 1002.22it/s]\n"
     ]
    },
    {
     "name": "stdout",
     "output_type": "stream",
     "text": [
      "source data shape:  (1284, 120) (1284, 120)\n"
     ]
    },
    {
     "name": "stderr",
     "output_type": "stream",
     "text": [
      "100%|██████████| 2/2 [00:00<00:00, 19.28it/s]\n"
     ]
    }
   ],
   "source": [
    "from esinet import Simulation\n",
    "settings=dict(number_of_sources=2, extents=(25, 35), duration_of_trial=0.1)\n",
    "sim = Simulation(fwd_small, evoked.info, settings=settings).simulate(2)\n"
   ]
  },
  {
   "cell_type": "code",
   "execution_count": 79,
   "metadata": {},
   "outputs": [
    {
     "name": "stdout",
     "output_type": "stream",
     "text": [
      "prepare gain\n",
      "calc laura\n"
     ]
    },
    {
     "name": "stderr",
     "output_type": "stream",
     "text": [
      "c:\\Users\\Lukas\\Documents\\projects\\laura\\dev\\..\\laura\\laura.py:222: RuntimeWarning: divide by zero encountered in power\n",
      "  W = np.identity(A.shape[0])\n"
     ]
    },
    {
     "name": "stdout",
     "output_type": "stream",
     "text": [
      "calc W_j\n",
      "calc W_d\n",
      "calc noise_term\n",
      "calc G\n",
      "calc y_hat\n",
      "make stc\n"
     ]
    },
    {
     "data": {
      "text/plain": [
       "<mne.viz._brain._brain.Brain at 0x1e6d4a3d490>"
      ]
     },
     "execution_count": 79,
     "metadata": {},
     "output_type": "execute_result"
    },
    {
     "name": "stdout",
     "output_type": "stream",
     "text": [
      "Using control points [6.83644300e-18 7.36656257e-18 9.08102094e-17]\n"
     ]
    }
   ],
   "source": [
    "sim.source_data[0].plot(**plot_params)\n",
    "evoked_sim = sim.eeg_data[0].average()\n",
    "stc_laura = apply_laura_2(evoked_sim, fwd_small)\n",
    "stc_laura.plot(**plot_params)"
   ]
  },
  {
   "cell_type": "code",
   "execution_count": null,
   "metadata": {},
   "outputs": [],
   "source": []
  }
 ],
 "metadata": {
  "interpreter": {
   "hash": "a9587d79750f5d7fc5c0560e15a7a8a49dff11015373bda407c2fe4ab31d0fe5"
  },
  "kernelspec": {
   "display_name": "Python 3.8.10 ('esienv')",
   "language": "python",
   "name": "python3"
  },
  "language_info": {
   "codemirror_mode": {
    "name": "ipython",
    "version": 3
   },
   "file_extension": ".py",
   "mimetype": "text/x-python",
   "name": "python",
   "nbconvert_exporter": "python",
   "pygments_lexer": "ipython3",
   "version": "3.8.10"
  },
  "orig_nbformat": 4
 },
 "nbformat": 4,
 "nbformat_minor": 2
}
