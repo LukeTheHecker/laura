{
 "cells": [
  {
   "cell_type": "code",
   "execution_count": 1,
   "metadata": {},
   "outputs": [],
   "source": [
    "%load_ext autoreload\n",
    "%autoreload 2\n",
    "\n",
    "from copy import deepcopy\n",
    "import sys\n",
    "sys.path.insert(0, \"../../esinet\")\n",
    "sys.path.insert(0, \"../\")\n",
    "\n",
    "import numpy as np\n",
    "import mne\n",
    "from esinet.forward import create_forward_model, get_info\n",
    "from esinet import Simulation, Net\n",
    "from esinet.util import unpack_fwd\n",
    "pp = dict(hemi='both', surface='white')"
   ]
  },
  {
   "cell_type": "code",
   "execution_count": 2,
   "metadata": {},
   "outputs": [
    {
     "name": "stderr",
     "output_type": "stream",
     "text": [
      "[Parallel(n_jobs=4)]: Using backend LokyBackend with 4 concurrent workers.\n",
      "[Parallel(n_jobs=4)]: Done   2 out of   4 | elapsed:    1.1s remaining:    1.1s\n",
      "[Parallel(n_jobs=4)]: Done   4 out of   4 | elapsed:    1.2s remaining:    0.0s\n",
      "[Parallel(n_jobs=4)]: Done   4 out of   4 | elapsed:    1.2s finished\n",
      "[Parallel(n_jobs=4)]: Using backend LokyBackend with 4 concurrent workers.\n",
      "[Parallel(n_jobs=4)]: Done   2 out of   4 | elapsed:    0.1s remaining:    0.1s\n",
      "[Parallel(n_jobs=4)]: Done   4 out of   4 | elapsed:    0.1s remaining:    0.0s\n",
      "[Parallel(n_jobs=4)]: Done   4 out of   4 | elapsed:    0.1s finished\n",
      "[Parallel(n_jobs=4)]: Using backend LokyBackend with 4 concurrent workers.\n",
      "[Parallel(n_jobs=4)]: Done   2 out of   4 | elapsed:    0.2s remaining:    0.2s\n",
      "[Parallel(n_jobs=4)]: Done   4 out of   4 | elapsed:    0.3s remaining:    0.0s\n",
      "[Parallel(n_jobs=4)]: Done   4 out of   4 | elapsed:    0.3s finished\n"
     ]
    }
   ],
   "source": [
    "info = get_info(\"standard_1020\")\n",
    "fwd = create_forward_model(info=info)"
   ]
  },
  {
   "cell_type": "code",
   "execution_count": 9,
   "metadata": {},
   "outputs": [
    {
     "name": "stdout",
     "output_type": "stream",
     "text": [
      "Simulating data based on sparse patches.\n"
     ]
    },
    {
     "name": "stderr",
     "output_type": "stream",
     "text": [
      "100%|██████████| 2/2 [00:00<00:00, 111.42it/s]\n",
      "100%|██████████| 2/2 [00:00<00:00, 2003.01it/s]\n"
     ]
    },
    {
     "name": "stdout",
     "output_type": "stream",
     "text": [
      "source data shape:  (1284, 100) (1284, 100)\n"
     ]
    },
    {
     "name": "stderr",
     "output_type": "stream",
     "text": [
      "100%|██████████| 2/2 [00:00<00:00, 38.19it/s]\n",
      "c:\\Users\\Lukas\\Documents\\projects\\laura\\dev\\..\\laura\\laura.py:159: RuntimeWarning: divide by zero encountered in power\n",
      "  W_j = np.matrix(inv(np.matmul(M.T, M)))\n"
     ]
    },
    {
     "name": "stdout",
     "output_type": "stream",
     "text": [
      "Using control points [0.00000000e+00 0.00000000e+00 1.22852105e-09]\n",
      "Using control points [7.08878605e-11 9.67046989e-11 4.10158229e-10]\n"
     ]
    },
    {
     "name": "stderr",
     "output_type": "stream",
     "text": [
      "c:\\Users\\Lukas\\Documents\\projects\\laura\\dev\\..\\laura\\laura.py:159: RuntimeWarning: divide by zero encountered in power\n",
      "  W_j = np.matrix(inv(np.matmul(M.T, M)))\n"
     ]
    },
    {
     "name": "stdout",
     "output_type": "stream",
     "text": [
      "Using control points [9.40647613e-11 1.29199477e-10 5.41616144e-10]\n"
     ]
    },
    {
     "name": "stderr",
     "output_type": "stream",
     "text": [
      "c:\\Users\\Lukas\\Documents\\projects\\laura\\dev\\..\\laura\\laura.py:159: RuntimeWarning: divide by zero encountered in power\n",
      "  W_j = np.matrix(inv(np.matmul(M.T, M)))\n"
     ]
    },
    {
     "name": "stdout",
     "output_type": "stream",
     "text": [
      "Using control points [4.06013663e-11 5.80337218e-11 2.31381293e-10]\n"
     ]
    },
    {
     "data": {
      "text/plain": [
       "<mne.viz._brain._brain.Brain at 0x231ad8e5eb0>"
      ]
     },
     "execution_count": 9,
     "metadata": {},
     "output_type": "execute_result"
    },
    {
     "name": "stderr",
     "output_type": "stream",
     "text": [
      "WARNING:root:Encountered issue in callback (most recent call last):\n",
      "  File \"c:\\Users\\Lukas\\Envs\\esienv\\lib\\site-packages\\mne\\viz\\_brain\\_brain.py\", line 1348, in _on_button_release\n",
      "    self.picked_renderer = self.plotter.iren.FindPokedRenderer(x, y)\n",
      "AttributeError: 'RenderWindowInteractor' object has no attribute 'FindPokedRenderer'\n"
     ]
    },
    {
     "name": "stdout",
     "output_type": "stream",
     "text": [
      "Using control points [7.75620404e-11 1.04579567e-10 2.96406879e-10]\n",
      "Using control points [4.93739103e-11 6.80309157e-11 1.48713476e-10]\n",
      "Using control points [0.00000000e+00 0.00000000e+00 8.33102631e-10]\n",
      "Using control points [7.72754320e-11 1.06522181e-10 2.32890228e-10]\n",
      "Using control points [1.21437576e-10 1.63756047e-10 4.64151147e-10]\n"
     ]
    }
   ],
   "source": [
    "from laura import *\n",
    "\n",
    "settings=dict(duration_of_trial=0.1, target_snr=999)\n",
    "sim_test = Simulation(fwd, info, settings=settings).simulate(2)\n",
    "evoked = sim_test.eeg_data[0].average()\n",
    "stc = apply_laura(evoked, fwd, reg=10)\n",
    "\n",
    "sim_test.source_data[0].plot(**pp)\n",
    "stc.plot(**pp)\n",
    "\n",
    "stc = apply_laura(evoked, fwd, reg=10, drop_off=1.5)\n",
    "stc.plot(**pp)\n",
    "stc = apply_laura(evoked, fwd, reg=10, drop_off=2.5)\n",
    "stc.plot(**pp)\n"
   ]
  },
  {
   "cell_type": "code",
   "execution_count": 4,
   "metadata": {},
   "outputs": [
    {
     "name": "stdout",
     "output_type": "stream",
     "text": [
      "Simulating data based on sparse patches.\n"
     ]
    },
    {
     "name": "stderr",
     "output_type": "stream",
     "text": [
      "100%|██████████| 10/10 [00:00<00:00, 119.37it/s]\n",
      "100%|██████████| 10/10 [00:00<00:00, 5012.31it/s]\n"
     ]
    },
    {
     "name": "stdout",
     "output_type": "stream",
     "text": [
      "source data shape:  (1284, 100) (1284, 100)\n"
     ]
    },
    {
     "name": "stderr",
     "output_type": "stream",
     "text": [
      "100%|██████████| 10/10 [00:00<00:00, 57.96it/s]\n"
     ]
    },
    {
     "name": "stdout",
     "output_type": "stream",
     "text": [
      "REG:  0\n",
      "-- number of adjacent vertices : 1284\n"
     ]
    },
    {
     "name": "stderr",
     "output_type": "stream",
     "text": [
      "c:\\Users\\Lukas\\Documents\\projects\\laura\\dev\\..\\laura\\laura.py:153: RuntimeWarning: divide by zero encountered in power\n",
      "  A = -d**-drop_off\n"
     ]
    },
    {
     "name": "stdout",
     "output_type": "stream",
     "text": [
      "-- number of adjacent vertices : 1284\n",
      "-- number of adjacent vertices : 1284\n",
      "-- number of adjacent vertices : 1284\n",
      "-- number of adjacent vertices : 1284\n",
      "-- number of adjacent vertices : 1284\n",
      "-- number of adjacent vertices : 1284\n",
      "-- number of adjacent vertices : 1284\n",
      "-- number of adjacent vertices : 1284\n",
      "-- number of adjacent vertices : 1284\n",
      "REG:  0.001\n",
      "-- number of adjacent vertices : 1284\n",
      "-- number of adjacent vertices : 1284\n",
      "-- number of adjacent vertices : 1284\n",
      "-- number of adjacent vertices : 1284\n",
      "-- number of adjacent vertices : 1284\n",
      "-- number of adjacent vertices : 1284\n",
      "-- number of adjacent vertices : 1284\n",
      "-- number of adjacent vertices : 1284\n",
      "-- number of adjacent vertices : 1284\n",
      "-- number of adjacent vertices : 1284\n",
      "REG:  0.01\n",
      "-- number of adjacent vertices : 1284\n",
      "-- number of adjacent vertices : 1284\n",
      "-- number of adjacent vertices : 1284\n",
      "-- number of adjacent vertices : 1284\n",
      "-- number of adjacent vertices : 1284\n",
      "-- number of adjacent vertices : 1284\n",
      "-- number of adjacent vertices : 1284\n",
      "-- number of adjacent vertices : 1284\n",
      "-- number of adjacent vertices : 1284\n",
      "-- number of adjacent vertices : 1284\n",
      "REG:  0.1\n",
      "-- number of adjacent vertices : 1284\n",
      "-- number of adjacent vertices : 1284\n",
      "-- number of adjacent vertices : 1284\n",
      "-- number of adjacent vertices : 1284\n",
      "-- number of adjacent vertices : 1284\n",
      "-- number of adjacent vertices : 1284\n",
      "-- number of adjacent vertices : 1284\n",
      "-- number of adjacent vertices : 1284\n",
      "-- number of adjacent vertices : 1284\n",
      "-- number of adjacent vertices : 1284\n",
      "REG:  1\n",
      "-- number of adjacent vertices : 1284\n",
      "-- number of adjacent vertices : 1284\n",
      "-- number of adjacent vertices : 1284\n",
      "-- number of adjacent vertices : 1284\n",
      "-- number of adjacent vertices : 1284\n",
      "-- number of adjacent vertices : 1284\n",
      "-- number of adjacent vertices : 1284\n",
      "-- number of adjacent vertices : 1284\n",
      "-- number of adjacent vertices : 1284\n",
      "-- number of adjacent vertices : 1284\n",
      "REG:  10\n",
      "-- number of adjacent vertices : 1284\n",
      "-- number of adjacent vertices : 1284\n",
      "-- number of adjacent vertices : 1284\n",
      "-- number of adjacent vertices : 1284\n",
      "-- number of adjacent vertices : 1284\n",
      "-- number of adjacent vertices : 1284\n",
      "-- number of adjacent vertices : 1284\n",
      "-- number of adjacent vertices : 1284\n",
      "-- number of adjacent vertices : 1284\n",
      "-- number of adjacent vertices : 1284\n",
      "REG:  100\n",
      "-- number of adjacent vertices : 1284\n",
      "-- number of adjacent vertices : 1284\n",
      "-- number of adjacent vertices : 1284\n",
      "-- number of adjacent vertices : 1284\n",
      "-- number of adjacent vertices : 1284\n",
      "-- number of adjacent vertices : 1284\n",
      "-- number of adjacent vertices : 1284\n",
      "-- number of adjacent vertices : 1284\n",
      "-- number of adjacent vertices : 1284\n",
      "-- number of adjacent vertices : 1284\n"
     ]
    }
   ],
   "source": [
    "from laura import *\n",
    "from scipy.spatial.distance import cosine\n",
    "\n",
    "settings=dict(duration_of_trial=0.1, target_snr=5)\n",
    "sim_test = Simulation(fwd, info, settings=settings).simulate(10)\n",
    "regs = [0,0.001,0.01, 0.1, 1, 10, 100]\n",
    "errors = []\n",
    "for reg in regs:\n",
    "    print(\"REG: \", reg)\n",
    "    stc_data = np.stack([apply_laura(epochs.average(), fwd, reg=reg).data for epochs in sim_test.eeg_data], axis=0).flatten()\n",
    "    true_data = np.stack([source.data for source in sim_test.source_data], axis=0).flatten()\n",
    "    error = cosine(stc_data, true_data) \n",
    "    # error = ((stc_data-true_data)**2).mean()\n",
    "    errors.append(error)"
   ]
  },
  {
   "cell_type": "code",
   "execution_count": 6,
   "metadata": {},
   "outputs": [
    {
     "data": {
      "text/plain": [
       "Text(0, 0.5, 'error')"
      ]
     },
     "execution_count": 6,
     "metadata": {},
     "output_type": "execute_result"
    }
   ],
   "source": [
    "import matplotlib.pyplot as plt\n",
    "%matplotlib qt\n",
    "plt.figure()\n",
    "plt.plot(regs, errors)\n",
    "plt.xlabel(\"regs\")\n",
    "plt.ylabel(\"error\")\n",
    "# plt.ylim(3e-19, 1.01e-18)"
   ]
  },
  {
   "cell_type": "markdown",
   "metadata": {},
   "source": [
    "# Amendment: n_neighbors"
   ]
  },
  {
   "cell_type": "code",
   "execution_count": null,
   "metadata": {},
   "outputs": [],
   "source": [
    "settings=dict(duration_of_trial=0.1, target_snr=999, number_of_sources=2, extents=(25,35))\n",
    "sim_test = Simulation(fwd, info, settings=settings).simulate(10)\n",
    "\n",
    "evoked = sim_test.eeg_data[0].average().data\n",
    "sim_test.source_data[0].plot(**pp)"
   ]
  },
  {
   "cell_type": "code",
   "execution_count": null,
   "metadata": {},
   "outputs": [],
   "source": [
    "stc.plot(**pp)"
   ]
  },
  {
   "cell_type": "code",
   "execution_count": null,
   "metadata": {},
   "outputs": [],
   "source": [
    "settings=dict(duration_of_trial=0.1, target_snr=9999)\n",
    "sim_test = Simulation(fwd, info, settings=settings).simulate(2)\n",
    "x = sim_test.eeg_data[0].average().data\n",
    "reg = 0.01\n",
    "G = inv(M.T*M) * leadfield.T * inv( leadfield * inv(M.T * M) * leadfield.T + reg * np.identity(leadfield.shape[0]) )\n",
    "y_hat = G*x * 1e-10\n",
    "stc = mne.SourceEstimate(y_hat, vertices, tmin=evoked.tmin, tstep=1/evoked.info[\"sfreq\"], subject=forward[\"src\"]._subject)\n",
    "stc.plot(**pp)"
   ]
  }
 ],
 "metadata": {
  "interpreter": {
   "hash": "a9587d79750f5d7fc5c0560e15a7a8a49dff11015373bda407c2fe4ab31d0fe5"
  },
  "kernelspec": {
   "display_name": "Python 3.8.10 ('esienv')",
   "language": "python",
   "name": "python3"
  },
  "language_info": {
   "codemirror_mode": {
    "name": "ipython",
    "version": 3
   },
   "file_extension": ".py",
   "mimetype": "text/x-python",
   "name": "python",
   "nbconvert_exporter": "python",
   "pygments_lexer": "ipython3",
   "version": "3.8.10"
  },
  "orig_nbformat": 4
 },
 "nbformat": 4,
 "nbformat_minor": 2
}
